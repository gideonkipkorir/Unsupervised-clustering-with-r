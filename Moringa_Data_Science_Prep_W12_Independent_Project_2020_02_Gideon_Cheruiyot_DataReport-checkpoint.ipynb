{
 "cells": [
  {
   "cell_type": "markdown",
   "metadata": {},
   "source": [
    "# Problem statement:\n",
    "I dentify individuals who are more likely to click on the Ads posted on his/her blog\n",
    "\n",
    "# Metrics of success: \n",
    "our success will be measured by our ability to identify attributes of the the users who click the adverts.#\n",
    "\n",
    "# Data relevance\n",
    "\n",
    "*The appropriateness of the data will be addressed by checking:*\n",
    "\n",
    "+ whether the data is accurate? \n",
    "+ whether the dataset is enough to sufficiently address the problem at hand?\n",
    "+  whether the dtaset was biased or imbalanced?\n",
    "# Experimental design:\n",
    "* loading and previewing the dataset\n",
    "* Cleaning , checking for outliers \n",
    "* Conducting exploratory data analysis to find out patterns and relationships\n",
    "* Comunicating the obsertavtions and findings\n",
    "* Drawing conclusion\n",
    "\n",
    "# Challenging the solution.\n",
    "More analysis need to be done to clearly predict the person likely to click on the Ad, this may include modeling for instance incorporating a logistic regression model."
   ]
  },
  {
   "cell_type": "code",
   "execution_count": 55,
   "metadata": {},
   "outputs": [
    {
     "data": {
      "text/html": [
       "<table>\n",
       "<thead><tr><th scope=col>Daily.Time.Spent.on.Site</th><th scope=col>Age</th><th scope=col>Area.Income</th><th scope=col>Daily.Internet.Usage</th><th scope=col>Ad.Topic.Line</th><th scope=col>City</th><th scope=col>Male</th><th scope=col>Country</th><th scope=col>Timestamp</th><th scope=col>Clicked.on.Ad</th></tr></thead>\n",
       "<tbody>\n",
       "\t<tr><td>68.95                                </td><td>35                                   </td><td>61833.90                             </td><td>256.09                               </td><td>Cloned 5thgeneration orchestration   </td><td>Wrightburgh                          </td><td>0                                    </td><td>Tunisia                              </td><td>2016-03-27 00:53:11                  </td><td>0                                    </td></tr>\n",
       "\t<tr><td>80.23                                </td><td>31                                   </td><td>68441.85                             </td><td>193.77                               </td><td>Monitored national standardization   </td><td>West Jodi                            </td><td>1                                    </td><td>Nauru                                </td><td>2016-04-04 01:39:02                  </td><td>0                                    </td></tr>\n",
       "\t<tr><td>69.47                                </td><td>26                                   </td><td>59785.94                             </td><td>236.50                               </td><td>Organic bottom-line service-desk     </td><td>Davidton                             </td><td>0                                    </td><td>San Marino                           </td><td>2016-03-13 20:35:42                  </td><td>0                                    </td></tr>\n",
       "\t<tr><td>74.15                                </td><td>29                                   </td><td>54806.18                             </td><td>245.89                               </td><td>Triple-buffered reciprocal time-frame</td><td>West Terrifurt                       </td><td>1                                    </td><td>Italy                                </td><td>2016-01-10 02:31:19                  </td><td>0                                    </td></tr>\n",
       "\t<tr><td>68.37                                </td><td>35                                   </td><td>73889.99                             </td><td>225.58                               </td><td>Robust logistical utilization        </td><td>South Manuel                         </td><td>0                                    </td><td>Iceland                              </td><td>2016-06-03 03:36:18                  </td><td>0                                    </td></tr>\n",
       "\t<tr><td>59.99                                </td><td>23                                   </td><td>59761.56                             </td><td>226.74                               </td><td>Sharable client-driven software      </td><td>Jamieberg                            </td><td>1                                    </td><td>Norway                               </td><td>2016-05-19 14:30:17                  </td><td>0                                    </td></tr>\n",
       "</tbody>\n",
       "</table>\n"
      ],
      "text/latex": [
       "\\begin{tabular}{r|llllllllll}\n",
       " Daily.Time.Spent.on.Site & Age & Area.Income & Daily.Internet.Usage & Ad.Topic.Line & City & Male & Country & Timestamp & Clicked.on.Ad\\\\\n",
       "\\hline\n",
       "\t 68.95                                 & 35                                    & 61833.90                              & 256.09                                & Cloned 5thgeneration orchestration    & Wrightburgh                           & 0                                     & Tunisia                               & 2016-03-27 00:53:11                   & 0                                    \\\\\n",
       "\t 80.23                                 & 31                                    & 68441.85                              & 193.77                                & Monitored national standardization    & West Jodi                             & 1                                     & Nauru                                 & 2016-04-04 01:39:02                   & 0                                    \\\\\n",
       "\t 69.47                                 & 26                                    & 59785.94                              & 236.50                                & Organic bottom-line service-desk      & Davidton                              & 0                                     & San Marino                            & 2016-03-13 20:35:42                   & 0                                    \\\\\n",
       "\t 74.15                                 & 29                                    & 54806.18                              & 245.89                                & Triple-buffered reciprocal time-frame & West Terrifurt                        & 1                                     & Italy                                 & 2016-01-10 02:31:19                   & 0                                    \\\\\n",
       "\t 68.37                                 & 35                                    & 73889.99                              & 225.58                                & Robust logistical utilization         & South Manuel                          & 0                                     & Iceland                               & 2016-06-03 03:36:18                   & 0                                    \\\\\n",
       "\t 59.99                                 & 23                                    & 59761.56                              & 226.74                                & Sharable client-driven software       & Jamieberg                             & 1                                     & Norway                                & 2016-05-19 14:30:17                   & 0                                    \\\\\n",
       "\\end{tabular}\n"
      ],
      "text/markdown": [
       "\n",
       "| Daily.Time.Spent.on.Site | Age | Area.Income | Daily.Internet.Usage | Ad.Topic.Line | City | Male | Country | Timestamp | Clicked.on.Ad |\n",
       "|---|---|---|---|---|---|---|---|---|---|\n",
       "| 68.95                                 | 35                                    | 61833.90                              | 256.09                                | Cloned 5thgeneration orchestration    | Wrightburgh                           | 0                                     | Tunisia                               | 2016-03-27 00:53:11                   | 0                                     |\n",
       "| 80.23                                 | 31                                    | 68441.85                              | 193.77                                | Monitored national standardization    | West Jodi                             | 1                                     | Nauru                                 | 2016-04-04 01:39:02                   | 0                                     |\n",
       "| 69.47                                 | 26                                    | 59785.94                              | 236.50                                | Organic bottom-line service-desk      | Davidton                              | 0                                     | San Marino                            | 2016-03-13 20:35:42                   | 0                                     |\n",
       "| 74.15                                 | 29                                    | 54806.18                              | 245.89                                | Triple-buffered reciprocal time-frame | West Terrifurt                        | 1                                     | Italy                                 | 2016-01-10 02:31:19                   | 0                                     |\n",
       "| 68.37                                 | 35                                    | 73889.99                              | 225.58                                | Robust logistical utilization         | South Manuel                          | 0                                     | Iceland                               | 2016-06-03 03:36:18                   | 0                                     |\n",
       "| 59.99                                 | 23                                    | 59761.56                              | 226.74                                | Sharable client-driven software       | Jamieberg                             | 1                                     | Norway                                | 2016-05-19 14:30:17                   | 0                                     |\n",
       "\n"
      ],
      "text/plain": [
       "  Daily.Time.Spent.on.Site Age Area.Income Daily.Internet.Usage\n",
       "1 68.95                    35  61833.90    256.09              \n",
       "2 80.23                    31  68441.85    193.77              \n",
       "3 69.47                    26  59785.94    236.50              \n",
       "4 74.15                    29  54806.18    245.89              \n",
       "5 68.37                    35  73889.99    225.58              \n",
       "6 59.99                    23  59761.56    226.74              \n",
       "  Ad.Topic.Line                         City           Male Country   \n",
       "1 Cloned 5thgeneration orchestration    Wrightburgh    0    Tunisia   \n",
       "2 Monitored national standardization    West Jodi      1    Nauru     \n",
       "3 Organic bottom-line service-desk      Davidton       0    San Marino\n",
       "4 Triple-buffered reciprocal time-frame West Terrifurt 1    Italy     \n",
       "5 Robust logistical utilization         South Manuel   0    Iceland   \n",
       "6 Sharable client-driven software       Jamieberg      1    Norway    \n",
       "  Timestamp           Clicked.on.Ad\n",
       "1 2016-03-27 00:53:11 0            \n",
       "2 2016-04-04 01:39:02 0            \n",
       "3 2016-03-13 20:35:42 0            \n",
       "4 2016-01-10 02:31:19 0            \n",
       "5 2016-06-03 03:36:18 0            \n",
       "6 2016-05-19 14:30:17 0            "
      ]
     },
     "metadata": {},
     "output_type": "display_data"
    }
   ],
   "source": [
    "\n",
    "data <- read.csv('advertising.csv')\n",
    "head(data)"
   ]
  },
  {
   "cell_type": "code",
   "execution_count": 56,
   "metadata": {},
   "outputs": [
    {
     "name": "stdout",
     "output_type": "stream",
     "text": [
      "'data.frame':\t1000 obs. of  10 variables:\n",
      " $ Daily.Time.Spent.on.Site: num  69 80.2 69.5 74.2 68.4 ...\n",
      " $ Age                     : int  35 31 26 29 35 23 33 48 30 20 ...\n",
      " $ Area.Income             : num  61834 68442 59786 54806 73890 ...\n",
      " $ Daily.Internet.Usage    : num  256 194 236 246 226 ...\n",
      " $ Ad.Topic.Line           : Factor w/ 1000 levels \"Adaptive 24hour Graphic Interface\",..: 92 465 567 904 767 806 223 724 108 455 ...\n",
      " $ City                    : Factor w/ 969 levels \"Adamsbury\",\"Adamside\",..: 962 904 112 940 806 283 47 672 885 713 ...\n",
      " $ Male                    : int  0 1 0 1 0 1 0 1 1 1 ...\n",
      " $ Country                 : Factor w/ 237 levels \"Afghanistan\",..: 216 148 185 104 97 159 146 13 83 79 ...\n",
      " $ Timestamp               : Factor w/ 1000 levels \"2016-01-01 02:52:10\",..: 440 475 368 57 768 690 131 334 549 942 ...\n",
      " $ Clicked.on.Ad           : int  0 0 0 0 0 0 0 1 0 0 ...\n"
     ]
    }
   ],
   "source": [
    "## Understanding the datatypes for our features\n",
    "\n",
    "str(data)"
   ]
  },
  {
   "cell_type": "code",
   "execution_count": 57,
   "metadata": {},
   "outputs": [
    {
     "data": {
      "text/html": [
       "<dl class=dl-horizontal>\n",
       "\t<dt>Daily.Time.Spent.on.Site</dt>\n",
       "\t\t<dd>0</dd>\n",
       "\t<dt>Age</dt>\n",
       "\t\t<dd>0</dd>\n",
       "\t<dt>Area.Income</dt>\n",
       "\t\t<dd>0</dd>\n",
       "\t<dt>Daily.Internet.Usage</dt>\n",
       "\t\t<dd>0</dd>\n",
       "\t<dt>Ad.Topic.Line</dt>\n",
       "\t\t<dd>0</dd>\n",
       "\t<dt>City</dt>\n",
       "\t\t<dd>0</dd>\n",
       "\t<dt>Male</dt>\n",
       "\t\t<dd>0</dd>\n",
       "\t<dt>Country</dt>\n",
       "\t\t<dd>0</dd>\n",
       "\t<dt>Timestamp</dt>\n",
       "\t\t<dd>0</dd>\n",
       "\t<dt>Clicked.on.Ad</dt>\n",
       "\t\t<dd>0</dd>\n",
       "</dl>\n"
      ],
      "text/latex": [
       "\\begin{description*}\n",
       "\\item[Daily.Time.Spent.on.Site] 0\n",
       "\\item[Age] 0\n",
       "\\item[Area.Income] 0\n",
       "\\item[Daily.Internet.Usage] 0\n",
       "\\item[Ad.Topic.Line] 0\n",
       "\\item[City] 0\n",
       "\\item[Male] 0\n",
       "\\item[Country] 0\n",
       "\\item[Timestamp] 0\n",
       "\\item[Clicked.on.Ad] 0\n",
       "\\end{description*}\n"
      ],
      "text/markdown": [
       "Daily.Time.Spent.on.Site\n",
       ":   0Age\n",
       ":   0Area.Income\n",
       ":   0Daily.Internet.Usage\n",
       ":   0Ad.Topic.Line\n",
       ":   0City\n",
       ":   0Male\n",
       ":   0Country\n",
       ":   0Timestamp\n",
       ":   0Clicked.on.Ad\n",
       ":   0\n",
       "\n"
      ],
      "text/plain": [
       "Daily.Time.Spent.on.Site                      Age              Area.Income \n",
       "                       0                        0                        0 \n",
       "    Daily.Internet.Usage            Ad.Topic.Line                     City \n",
       "                       0                        0                        0 \n",
       "                    Male                  Country                Timestamp \n",
       "                       0                        0                        0 \n",
       "           Clicked.on.Ad \n",
       "                       0 "
      ]
     },
     "metadata": {},
     "output_type": "display_data"
    }
   ],
   "source": [
    "#Finding missing values\n",
    "colSums(is.na(data))"
   ]
  },
  {
   "cell_type": "markdown",
   "metadata": {},
   "source": [
    "# Exploratory Data Analysis\n",
    "## Univariate analysis: \n",
    "*we will be analysis individual featutres to find interesting facts about them. The features include;Daily.Time.Spent.on.Site, Age, Area.Income, Male and daily time spent on the ineternet"
   ]
  },
  {
   "cell_type": "code",
   "execution_count": 58,
   "metadata": {},
   "outputs": [
    {
     "data": {
      "text/plain": [
       " Daily.Time.Spent.on.Site      Age         Area.Income    Daily.Internet.Usage\n",
       " Min.   :32.60            Min.   :19.00   Min.   :13996   Min.   :104.8       \n",
       " 1st Qu.:51.36            1st Qu.:29.00   1st Qu.:47032   1st Qu.:138.8       \n",
       " Median :68.22            Median :35.00   Median :57012   Median :183.1       \n",
       " Mean   :65.00            Mean   :36.01   Mean   :55000   Mean   :180.0       \n",
       " 3rd Qu.:78.55            3rd Qu.:42.00   3rd Qu.:65471   3rd Qu.:218.8       \n",
       " Max.   :91.43            Max.   :61.00   Max.   :79485   Max.   :270.0       \n",
       "                                                                              \n",
       "                                 Ad.Topic.Line              City    \n",
       " Adaptive 24hour Graphic Interface      :  1   Lisamouth      :  3  \n",
       " Adaptive asynchronous attitude         :  1   Williamsport   :  3  \n",
       " Adaptive context-sensitive application :  1   Benjaminchester:  2  \n",
       " Adaptive contextually-based methodology:  1   East John      :  2  \n",
       " Adaptive demand-driven knowledgebase   :  1   East Timothy   :  2  \n",
       " Adaptive uniform capability            :  1   Johnstad       :  2  \n",
       " (Other)                                :994   (Other)        :986  \n",
       "      Male                 Country                  Timestamp   Clicked.on.Ad\n",
       " Min.   :0.000   Czech Republic:  9   2016-01-01 02:52:10:  1   Min.   :0.0  \n",
       " 1st Qu.:0.000   France        :  9   2016-01-01 03:35:35:  1   1st Qu.:0.0  \n",
       " Median :0.000   Afghanistan   :  8   2016-01-01 05:31:22:  1   Median :0.5  \n",
       " Mean   :0.481   Australia     :  8   2016-01-01 08:27:06:  1   Mean   :0.5  \n",
       " 3rd Qu.:1.000   Cyprus        :  8   2016-01-01 15:14:24:  1   3rd Qu.:1.0  \n",
       " Max.   :1.000   Greece        :  8   2016-01-01 20:17:49:  1   Max.   :1.0  \n",
       "                 (Other)       :950   (Other)            :994                "
      ]
     },
     "metadata": {},
     "output_type": "display_data"
    }
   ],
   "source": [
    "summary(data)"
   ]
  },
  {
   "cell_type": "code",
   "execution_count": 59,
   "metadata": {},
   "outputs": [
    {
     "data": {
      "image/png": "[encoded data removed]",
      "text/plain": [
       "Plot with title \"Frequency against clicks on the Ad\""
      ]
     },
     "metadata": {},
     "output_type": "display_data"
    }
   ],
   "source": [
    "# Finding outliers\n",
    "#could not find any outliers*\n",
    "Dt_spent <- data$Daily.Time.Spent.on.Site\n",
    "dt_clicked <- data$Clicked.on.Ad\n",
    "par(mfrow=c(2,2))\n",
    "hist(Dt_spent,xlab = 'daily time spent on the site', main = 'frequency vs daily time spent on the site' )\n",
    "boxplot(Dt_spent,xlab = 'daily time spent on the site', horizontal=TRUE)\n",
    "hist(dt_clicked,xlab = 'daily time spent on the site', main = 'Frequency against clicks on the Ad' )\n",
    "boxplot(dt_clicked,xlab = 'clicks on the Ads', horizontal=TRUE)"
   ]
  },
  {
   "cell_type": "markdown",
   "metadata": {},
   "source": [
    "*on Average people spent an 65 minutes on the site on a daily basis and a maximum of 88 minutes.*\n",
    "*clicks on the the Ad are balanced, the number of people who clicked and those who did not click on the AD are equal.*"
   ]
  },
  {
   "cell_type": "code",
   "execution_count": 60,
   "metadata": {},
   "outputs": [
    {
     "name": "stderr",
     "output_type": "stream",
     "text": [
      "Installing package into 'C:/Users/Gideon Kipkorir/Documents/R/win-library/3.6'\n",
      "(as 'lib' is unspecified)\n",
      "Warning message:\n",
      "\"package 'e1071' is in use and will not be installed\""
     ]
    },
    {
     "data": {
      "text/html": [
       "0"
      ],
      "text/latex": [
       "0"
      ],
      "text/markdown": [
       "0"
      ],
      "text/plain": [
       "[1] 0"
      ]
     },
     "metadata": {},
     "output_type": "display_data"
    },
    {
     "data": {
      "text/html": [
       "-0.370645950169329"
      ],
      "text/latex": [
       "-0.370645950169329"
      ],
      "text/markdown": [
       "-0.370645950169329"
      ],
      "text/plain": [
       "[1] -0.370646"
      ]
     },
     "metadata": {},
     "output_type": "display_data"
    }
   ],
   "source": [
    "#{r message=FALSE, warning=FALSE}\n",
    "#library(tidyverse)\n",
    "library(e1071)\n",
    "install.packages(\"e1071\", dep = TRUE) \n",
    "skewness(data$Clicked.on.Ad)\n",
    "skewness(data$Daily.Time.Spent.on.Site)"
   ]
  },
  {
   "cell_type": "markdown",
   "metadata": {},
   "source": [
    "*conclusion: 'clicked.on.Ad' and 'Daily.time.Spent.on.Site' features have no skewness.*"
   ]
  },
  {
   "cell_type": "code",
   "execution_count": 61,
   "metadata": {},
   "outputs": [
    {
     "data": {
      "image/png": "[encoded data removed]",
      "text/plain": [
       "Plot with title \"Daily internet usage\""
      ]
     },
     "metadata": {},
     "output_type": "display_data"
    }
   ],
   "source": [
    "a_income <- data$Area.Income\n",
    "d_internet_usage <- data$Daily.Internet.Usage\n",
    "par(mfrow=c(2,2))\n",
    "hist(a_income,xlab = 'area income', main = 'income' )\n",
    "boxplot(a_income,xlab = 'area income', horizontal=TRUE)\n",
    "hist(d_internet_usage, xlab = 'minutes', ylab = 'freuency',main = 'Daily internet usage')\n",
    "boxplot(d_internet_usage,xlab = 'area income', horizontal=TRUE)"
   ]
  },
  {
   "cell_type": "code",
   "execution_count": 62,
   "metadata": {},
   "outputs": [
    {
     "data": {
      "text/html": [
       "<ol class=list-inline>\n",
       "\t<li>17709.98</li>\n",
       "\t<li>18819.34</li>\n",
       "\t<li>15598.29</li>\n",
       "\t<li>15879.1</li>\n",
       "\t<li>14548.06</li>\n",
       "\t<li>13996.5</li>\n",
       "\t<li>14775.5</li>\n",
       "\t<li>18368.57</li>\n",
       "</ol>\n"
      ],
      "text/latex": [
       "\\begin{enumerate*}\n",
       "\\item 17709.98\n",
       "\\item 18819.34\n",
       "\\item 15598.29\n",
       "\\item 15879.1\n",
       "\\item 14548.06\n",
       "\\item 13996.5\n",
       "\\item 14775.5\n",
       "\\item 18368.57\n",
       "\\end{enumerate*}\n"
      ],
      "text/markdown": [
       "1. 17709.98\n",
       "2. 18819.34\n",
       "3. 15598.29\n",
       "4. 15879.1\n",
       "5. 14548.06\n",
       "6. 13996.5\n",
       "7. 14775.5\n",
       "8. 18368.57\n",
       "\n",
       "\n"
      ],
      "text/plain": [
       "[1] 17709.98 18819.34 15598.29 15879.10 14548.06 13996.50 14775.50 18368.57"
      ]
     },
     "metadata": {},
     "output_type": "display_data"
    }
   ],
   "source": [
    "boxplot.stats(data$Area.Income)$out"
   ]
  },
  {
   "cell_type": "markdown",
   "metadata": {},
   "source": [
    "*The values above  are deemed to be outliers in the area income feature as listed above, however they won't be dropped due to the understanding that different countries have different income levels*"
   ]
  },
  {
   "cell_type": "code",
   "execution_count": 63,
   "metadata": {},
   "outputs": [
    {
     "data": {
      "text/html": [
       "-0.0334368136557063"
      ],
      "text/latex": [
       "-0.0334368136557063"
      ],
      "text/markdown": [
       "-0.0334368136557063"
      ],
      "text/plain": [
       "[1] -0.03343681"
      ]
     },
     "metadata": {},
     "output_type": "display_data"
    },
    {
     "data": {
      "text/html": [
       "-0.648422850205901"
      ],
      "text/latex": [
       "-0.648422850205901"
      ],
      "text/markdown": [
       "-0.648422850205901"
      ],
      "text/plain": [
       "[1] -0.6484229"
      ]
     },
     "metadata": {},
     "output_type": "display_data"
    }
   ],
   "source": [
    "skewness(data$Daily.Internet.Usage)\n",
    "skewness(data$Area.Income)"
   ]
  },
  {
   "cell_type": "markdown",
   "metadata": {},
   "source": [
    "Daily.Internet.Usage and Area.Income features appear to have no skweness.\n",
    "*The maximum  area income was approximately 8,000 and an average of between 5,000 and 6,000.Additional area income appears to be skewed to the left*\n",
    "\n",
    "**found no outliers in the daily internet usage**\n",
    "*The outliers were retained due to the fact that, different countries have different range of income and they appear to be normal, there are low and  high income earning countries.*\n"
   ]
  },
  {
   "cell_type": "markdown",
   "metadata": {},
   "source": [
    "\n",
    "# Feature enginering to allow analysis based on time and date.*\n",
    "* first step was to split the Timestap into 'Date' and 'Time'*\n",
    "* then conerted them into Date and Time formats respectively*"
   ]
  },
  {
   "cell_type": "code",
   "execution_count": 64,
   "metadata": {},
   "outputs": [],
   "source": [
    "data$Date <- sapply(strsplit(as.character(data$Timestamp), \" \"), \"[\", 1)\n",
    "data$Time <- sapply(strsplit(as.character(data$Timestamp), \" \"), \"[\", 2)\n",
    "date <- as.Date(data$Date)\n",
    "Time <- as.POSIXct(data$Time,format=\"%H:%M:%S\")"
   ]
  },
  {
   "cell_type": "code",
   "execution_count": 65,
   "metadata": {},
   "outputs": [
    {
     "data": {
      "image/png": "[encoded data removed]",
      "text/plain": [
       "plot without title"
      ]
     },
     "metadata": {},
     "output_type": "display_data"
    }
   ],
   "source": [
    "par(mfrow=c(1,2))\n",
    "#plot.ts(date,xlab = 'area income', main = 'income' )\n",
    "boxplot(date,xlab = 'area income', horizontal=TRUE)\n",
    "#plot.ts(Time, xlab = 'minutes', ylab = 'freuency',main = 'Daily internet usage')\n",
    "boxplot(Time, xlab = 'seconds', ylab = 'freuency', horizontal=TRUE)"
   ]
  },
  {
   "cell_type": "markdown",
   "metadata": {},
   "source": [
    "*There were no outliers, for Date and Time.*\n"
   ]
  },
  {
   "cell_type": "markdown",
   "metadata": {},
   "source": [
    "# Bivariate analysis\n",
    "**Here we will explore the relationship between the our dependent variable(Clicked.on.Ad) and the indpendent variables(aily.Time.Spent.on.Site\", \"Age\",\"Area.Income\", \"Daily.Internet.Usage\", etc...)**"
   ]
  },
  {
   "cell_type": "code",
   "execution_count": 66,
   "metadata": {},
   "outputs": [
    {
     "data": {
      "text/html": [
       "<ol class=list-inline>\n",
       "\t<li>'Daily.Time.Spent.on.Site'</li>\n",
       "\t<li>'Age'</li>\n",
       "\t<li>'Area.Income'</li>\n",
       "\t<li>'Daily.Internet.Usage'</li>\n",
       "\t<li>'Ad.Topic.Line'</li>\n",
       "\t<li>'City'</li>\n",
       "\t<li>'Male'</li>\n",
       "\t<li>'Country'</li>\n",
       "\t<li>'Timestamp'</li>\n",
       "\t<li>'Clicked.on.Ad'</li>\n",
       "\t<li>'Date'</li>\n",
       "\t<li>'Time'</li>\n",
       "</ol>\n"
      ],
      "text/latex": [
       "\\begin{enumerate*}\n",
       "\\item 'Daily.Time.Spent.on.Site'\n",
       "\\item 'Age'\n",
       "\\item 'Area.Income'\n",
       "\\item 'Daily.Internet.Usage'\n",
       "\\item 'Ad.Topic.Line'\n",
       "\\item 'City'\n",
       "\\item 'Male'\n",
       "\\item 'Country'\n",
       "\\item 'Timestamp'\n",
       "\\item 'Clicked.on.Ad'\n",
       "\\item 'Date'\n",
       "\\item 'Time'\n",
       "\\end{enumerate*}\n"
      ],
      "text/markdown": [
       "1. 'Daily.Time.Spent.on.Site'\n",
       "2. 'Age'\n",
       "3. 'Area.Income'\n",
       "4. 'Daily.Internet.Usage'\n",
       "5. 'Ad.Topic.Line'\n",
       "6. 'City'\n",
       "7. 'Male'\n",
       "8. 'Country'\n",
       "9. 'Timestamp'\n",
       "10. 'Clicked.on.Ad'\n",
       "11. 'Date'\n",
       "12. 'Time'\n",
       "\n",
       "\n"
      ],
      "text/plain": [
       " [1] \"Daily.Time.Spent.on.Site\" \"Age\"                     \n",
       " [3] \"Area.Income\"              \"Daily.Internet.Usage\"    \n",
       " [5] \"Ad.Topic.Line\"            \"City\"                    \n",
       " [7] \"Male\"                     \"Country\"                 \n",
       " [9] \"Timestamp\"                \"Clicked.on.Ad\"           \n",
       "[11] \"Date\"                     \"Time\"                    "
      ]
     },
     "metadata": {},
     "output_type": "display_data"
    }
   ],
   "source": [
    "colnames(data)"
   ]
  },
  {
   "cell_type": "code",
   "execution_count": 67,
   "metadata": {},
   "outputs": [],
   "source": [
    "data$Clicked.on.Ad <- factor(data$Clicked.on.Ad, levels = c(0,1), labels = c(\"False\", \"True\"))"
   ]
  },
  {
   "cell_type": "code",
   "execution_count": 68,
   "metadata": {},
   "outputs": [
    {
     "data": {
      "image/png": "[encoded data removed]",
      "text/plain": [
       "plot without title"
      ]
     },
     "metadata": {},
     "output_type": "display_data"
    },
    {
     "data": {
      "image/png": "[encoded data removed]",
      "text/plain": [
       "plot without title"
      ]
     },
     "metadata": {},
     "output_type": "display_data"
    }
   ],
   "source": [
    "library(ggplot2)\n",
    "library(dplyr)\n",
    "par(mfrow=c(2,2))\n",
    "c <- ggplot(data, aes(x=Daily.Time.Spent.on.Site, fill=Clicked.on.Ad, color=Clicked.on.Ad)) +\n",
    "geom_histogram(binwidth = 1) + labs(title=\"Frequency against Daily time spent on Site\")\n",
    "c + theme_bw()\n",
    "c <- ggplot(data, aes(x=Age, fill=Clicked.on.Ad, color=Clicked.on.Ad)) +\n",
    "geom_histogram(binwidth = 1) + labs(title=\"Frequency against Age\")\n",
    "c + theme_bw()\n",
    "\n"
   ]
  },
  {
   "cell_type": "code",
   "execution_count": 69,
   "metadata": {},
   "outputs": [
    {
     "data": {
      "image/png": "[encoded data removed]",
      "text/plain": [
       "plot without title"
      ]
     },
     "metadata": {},
     "output_type": "display_data"
    },
    {
     "data": {
      "image/png": "[encoded data removed]",
      "text/plain": [
       "plot without title"
      ]
     },
     "metadata": {},
     "output_type": "display_data"
    }
   ],
   "source": [
    "c <- ggplot(data, aes(x=Area.Income, fill=Clicked.on.Ad, color=Clicked.on.Ad)) +\n",
    "geom_histogram(binwidth = 1) + labs(title=\"Frequency against Area Income\")\n",
    "c + theme_bw()\n",
    "c <- ggplot(data, aes(x=Daily.Internet.Usage, fill=Clicked.on.Ad, color=Clicked.on.Ad)) +\n",
    "geom_histogram(binwidth = 1) + labs(title=\"Frequency against Daily Internet Usage\")\n",
    "c + theme_bw()"
   ]
  },
  {
   "cell_type": "markdown",
   "metadata": {},
   "source": [
    "# Multivariate Analysis\n",
    "Here we simultenously explore  explore how other (more than 1) indpendent variabel influence the likelihood of one clicking the Ad."
   ]
  },
  {
   "cell_type": "code",
   "execution_count": 70,
   "metadata": {},
   "outputs": [
    {
     "name": "stderr",
     "output_type": "stream",
     "text": [
      "Warning message in ggcorr(num, label = TRUE, label_alpha = TRUE):\n",
      "\"data in column(s) 'Clicked.on.Ad' are not numeric and were ignored\""
     ]
    },
    {
     "data": {
      "image/png": "[encoded data removed]",
      "text/plain": [
       "plot without title"
      ]
     },
     "metadata": {},
     "output_type": "display_data"
    }
   ],
   "source": [
    "sub_data <- c('Clicked.on.Ad', 'Male', 'Age', 'Area.Income', 'Daily.Internet.Usage', 'Daily.Time.Spent.on.Site')\n",
    "num <- data[,sub_data]\n",
    "library(GGally)\n",
    "ggcorr(num, \n",
    "       label = TRUE, \n",
    "       label_alpha = TRUE)"
   ]
  },
  {
   "cell_type": "markdown",
   "metadata": {},
   "source": [
    "* There is a strong positive correlation between Age and the those who clicked the AD,hence the older the user the more likely he/she will click the ad.\n",
    "* Daily inter usage and Daily time spent o the site has a strong negative correlation to Clicking the Ad.Thus, the less time one spents on both the site and the internet he/she will be more likely to click on the Ads.\n",
    "* Gender(Rep' by - 'Male') has no correlation to the likelihood of one clicking  the Ad.\n",
    "* Area income as weak positive corelation with the the likelihood of one clicking the Ad, suggesting that , the higher the area income the more likely that the person will clkick on the Ad."
   ]
  },
  {
   "cell_type": "code",
   "execution_count": 71,
   "metadata": {},
   "outputs": [
    {
     "name": "stdout",
     "output_type": "stream",
     "text": [
      "'data.frame':\t1000 obs. of  12 variables:\n",
      " $ Daily.Time.Spent.on.Site: num  69 80.2 69.5 74.2 68.4 ...\n",
      " $ Age                     : int  35 31 26 29 35 23 33 48 30 20 ...\n",
      " $ Area.Income             : num  61834 68442 59786 54806 73890 ...\n",
      " $ Daily.Internet.Usage    : num  256 194 236 246 226 ...\n",
      " $ Ad.Topic.Line           : Factor w/ 1000 levels \"Adaptive 24hour Graphic Interface\",..: 92 465 567 904 767 806 223 724 108 455 ...\n",
      " $ City                    : Factor w/ 969 levels \"Adamsbury\",\"Adamside\",..: 962 904 112 940 806 283 47 672 885 713 ...\n",
      " $ Male                    : int  0 1 0 1 0 1 0 1 1 1 ...\n",
      " $ Country                 : Factor w/ 237 levels \"Afghanistan\",..: 216 148 185 104 97 159 146 13 83 79 ...\n",
      " $ Timestamp               : Factor w/ 1000 levels \"2016-01-01 02:52:10\",..: 440 475 368 57 768 690 131 334 549 942 ...\n",
      " $ Clicked.on.Ad           : Factor w/ 2 levels \"False\",\"True\": 1 1 1 1 1 1 1 2 1 1 ...\n",
      " $ Date                    : chr  \"2016-03-27\" \"2016-04-04\" \"2016-03-13\" \"2016-01-10\" ...\n",
      " $ Time                    : chr  \"00:53:11\" \"01:39:02\" \"20:35:42\" \"02:31:19\" ...\n"
     ]
    }
   ],
   "source": [
    "str(data)"
   ]
  },
  {
   "cell_type": "code",
   "execution_count": 74,
   "metadata": {},
   "outputs": [],
   "source": [
    "data$City <- as.numeric(data$City)\n",
    "data$Country <- as.numeric(data$Country)\n",
    "data$Clicked.on.Ad <- as.numeric(data$Clicked.on.Ad)"
   ]
  },
  {
   "cell_type": "code",
   "execution_count": 119,
   "metadata": {},
   "outputs": [
    {
     "data": {
      "image/png": "[encoded data removed]",
      "text/plain": [
       "plot without title"
      ]
     },
     "metadata": {},
     "output_type": "display_data"
    }
   ],
   "source": [
    "sub_data <- c('Clicked.on.Ad', 'Male', 'Age', 'Area.Income', 'Daily.Internet.Usage', 'Daily.Time.Spent.on.Site','Country' )\n",
    "num_dt <- data[,sub_data]\n",
    "library(GGally)\n",
    "ggcorr(num_dt, \n",
    "       label = TRUE, \n",
    "       label_alpha = TRUE)"
   ]
  },
  {
   "cell_type": "markdown",
   "metadata": {},
   "source": [
    "# Modelling\n",
    "## KNN"
   ]
  },
  {
   "cell_type": "code",
   "execution_count": 120,
   "metadata": {},
   "outputs": [
    {
     "data": {
      "text/html": [
       "<table>\n",
       "<thead><tr><th scope=col>Clicked.on.Ad</th><th scope=col>Male</th><th scope=col>Age</th><th scope=col>Area.Income</th><th scope=col>Daily.Internet.Usage</th><th scope=col>Daily.Time.Spent.on.Site</th><th scope=col>Country</th></tr></thead>\n",
       "<tbody>\n",
       "\t<tr><td>1       </td><td>0       </td><td>35      </td><td>61833.90</td><td>256.09  </td><td>68.95   </td><td>216     </td></tr>\n",
       "\t<tr><td>1       </td><td>1       </td><td>31      </td><td>68441.85</td><td>193.77  </td><td>80.23   </td><td>148     </td></tr>\n",
       "\t<tr><td>1       </td><td>0       </td><td>26      </td><td>59785.94</td><td>236.50  </td><td>69.47   </td><td>185     </td></tr>\n",
       "\t<tr><td>1       </td><td>1       </td><td>29      </td><td>54806.18</td><td>245.89  </td><td>74.15   </td><td>104     </td></tr>\n",
       "\t<tr><td>1       </td><td>0       </td><td>35      </td><td>73889.99</td><td>225.58  </td><td>68.37   </td><td> 97     </td></tr>\n",
       "\t<tr><td>1       </td><td>1       </td><td>23      </td><td>59761.56</td><td>226.74  </td><td>59.99   </td><td>159     </td></tr>\n",
       "</tbody>\n",
       "</table>\n"
      ],
      "text/latex": [
       "\\begin{tabular}{r|lllllll}\n",
       " Clicked.on.Ad & Male & Age & Area.Income & Daily.Internet.Usage & Daily.Time.Spent.on.Site & Country\\\\\n",
       "\\hline\n",
       "\t 1        & 0        & 35       & 61833.90 & 256.09   & 68.95    & 216     \\\\\n",
       "\t 1        & 1        & 31       & 68441.85 & 193.77   & 80.23    & 148     \\\\\n",
       "\t 1        & 0        & 26       & 59785.94 & 236.50   & 69.47    & 185     \\\\\n",
       "\t 1        & 1        & 29       & 54806.18 & 245.89   & 74.15    & 104     \\\\\n",
       "\t 1        & 0        & 35       & 73889.99 & 225.58   & 68.37    &  97     \\\\\n",
       "\t 1        & 1        & 23       & 59761.56 & 226.74   & 59.99    & 159     \\\\\n",
       "\\end{tabular}\n"
      ],
      "text/markdown": [
       "\n",
       "| Clicked.on.Ad | Male | Age | Area.Income | Daily.Internet.Usage | Daily.Time.Spent.on.Site | Country |\n",
       "|---|---|---|---|---|---|---|\n",
       "| 1        | 0        | 35       | 61833.90 | 256.09   | 68.95    | 216      |\n",
       "| 1        | 1        | 31       | 68441.85 | 193.77   | 80.23    | 148      |\n",
       "| 1        | 0        | 26       | 59785.94 | 236.50   | 69.47    | 185      |\n",
       "| 1        | 1        | 29       | 54806.18 | 245.89   | 74.15    | 104      |\n",
       "| 1        | 0        | 35       | 73889.99 | 225.58   | 68.37    |  97      |\n",
       "| 1        | 1        | 23       | 59761.56 | 226.74   | 59.99    | 159      |\n",
       "\n"
      ],
      "text/plain": [
       "  Clicked.on.Ad Male Age Area.Income Daily.Internet.Usage\n",
       "1 1             0    35  61833.90    256.09              \n",
       "2 1             1    31  68441.85    193.77              \n",
       "3 1             0    26  59785.94    236.50              \n",
       "4 1             1    29  54806.18    245.89              \n",
       "5 1             0    35  73889.99    225.58              \n",
       "6 1             1    23  59761.56    226.74              \n",
       "  Daily.Time.Spent.on.Site Country\n",
       "1 68.95                    216    \n",
       "2 80.23                    148    \n",
       "3 69.47                    185    \n",
       "4 74.15                    104    \n",
       "5 68.37                     97    \n",
       "6 59.99                    159    "
      ]
     },
     "metadata": {},
     "output_type": "display_data"
    }
   ],
   "source": [
    "num<- num_dt\n",
    "head(num)"
   ]
  },
  {
   "cell_type": "code",
   "execution_count": 80,
   "metadata": {},
   "outputs": [],
   "source": [
    "num$Clicked.on.Ad <- as.factor(num$Clicked.on.Ad )\n"
   ]
  },
  {
   "cell_type": "code",
   "execution_count": 81,
   "metadata": {},
   "outputs": [
    {
     "name": "stdout",
     "output_type": "stream",
     "text": [
      "'data.frame':\t1000 obs. of  7 variables:\n",
      " $ Clicked.on.Ad           : Factor w/ 2 levels \"1\",\"2\": 1 1 1 1 1 1 1 2 1 1 ...\n",
      " $ Male                    : int  0 1 0 1 0 1 0 1 1 1 ...\n",
      " $ Age                     : int  35 31 26 29 35 23 33 48 30 20 ...\n",
      " $ Area.Income             : num  61834 68442 59786 54806 73890 ...\n",
      " $ Daily.Internet.Usage    : num  256 194 236 246 226 ...\n",
      " $ Daily.Time.Spent.on.Site: num  69 80.2 69.5 74.2 68.4 ...\n",
      " $ Country                 : num  216 148 185 104 97 159 146 13 83 79 ...\n"
     ]
    }
   ],
   "source": [
    "str(num)"
   ]
  },
  {
   "cell_type": "code",
   "execution_count": 95,
   "metadata": {},
   "outputs": [],
   "source": [
    "# Normalizing the predictor attributes so that no particular attribute has more impact on clustering algorithm than others.\n",
    "normalize<- function(x){\n",
    "  return((x-min(x))/(max(x)-min(x)))\n",
    "}\n",
    "class<- data.frame(num$Clicked.on.Ad )\n",
    "num[,2:7]<- normalize(num[,2:7])"
   ]
  },
  {
   "cell_type": "code",
   "execution_count": 108,
   "metadata": {},
   "outputs": [],
   "source": [
    "# Required to reproduce the results\n",
    "set.seed(9999) \n",
    "rnum<- sample(rep(1:1000))\n",
    "# Applying same randomization on \"class\" attribute\n",
    "class<- as.data.frame(class[rnum,])\n",
    "# Randomizing \"num\" dataset\n",
    "num<- num[rnum,]\n"
   ]
  },
  {
   "cell_type": "code",
   "execution_count": 109,
   "metadata": {},
   "outputs": [],
   "source": [
    "num.train<- num[1:800,]\n",
    "num.train.target<- class[1:800,]\n",
    "num.test<- num[801:1000,]\n",
    "num.test.target<- class[801:1000,]"
   ]
  },
  {
   "cell_type": "code",
   "execution_count": 110,
   "metadata": {},
   "outputs": [
    {
     "data": {
      "text/html": [
       "<ol class=list-inline>\n",
       "\t<li>1000</li>\n",
       "\t<li>7</li>\n",
       "</ol>\n"
      ],
      "text/latex": [
       "\\begin{enumerate*}\n",
       "\\item 1000\n",
       "\\item 7\n",
       "\\end{enumerate*}\n"
      ],
      "text/markdown": [
       "1. 1000\n",
       "2. 7\n",
       "\n",
       "\n"
      ],
      "text/plain": [
       "[1] 1000    7"
      ]
     },
     "metadata": {},
     "output_type": "display_data"
    }
   ],
   "source": [
    "dim(num)"
   ]
  },
  {
   "cell_type": "code",
   "execution_count": 111,
   "metadata": {},
   "outputs": [],
   "source": [
    "# Applying the knn algorithm\n",
    "library(class)\n",
    "model<- knn(train = num.train,  test = num.test, cl=num.train.target, k=7)"
   ]
  },
  {
   "cell_type": "code",
   "execution_count": 112,
   "metadata": {},
   "outputs": [
    {
     "data": {
      "text/plain": [
       "               model\n",
       "num.test.target   1   2\n",
       "              1 101   0\n",
       "              2   0  99"
      ]
     },
     "metadata": {},
     "output_type": "display_data"
    }
   ],
   "source": [
    "# Visualizing classification results\n",
    "table(num.test.target, model)"
   ]
  },
  {
   "cell_type": "code",
   "execution_count": 113,
   "metadata": {},
   "outputs": [
    {
     "data": {
      "text/html": [
       "1"
      ],
      "text/latex": [
       "1"
      ],
      "text/markdown": [
       "1"
      ],
      "text/plain": [
       "[1] 1"
      ]
     },
     "metadata": {},
     "output_type": "display_data"
    }
   ],
   "source": [
    "# Calculating the Accuracy\n",
    "mean(num.test.target== model)"
   ]
  },
  {
   "cell_type": "markdown",
   "metadata": {},
   "source": [
    "## Modelling with Naive Bayes"
   ]
  },
  {
   "cell_type": "code",
   "execution_count": 121,
   "metadata": {},
   "outputs": [
    {
     "data": {
      "text/html": [
       "<table>\n",
       "<thead><tr><th scope=col>Clicked.on.Ad</th><th scope=col>Male</th><th scope=col>Age</th><th scope=col>Area.Income</th><th scope=col>Daily.Internet.Usage</th><th scope=col>Daily.Time.Spent.on.Site</th><th scope=col>Country</th></tr></thead>\n",
       "<tbody>\n",
       "\t<tr><td>1       </td><td>0       </td><td>35      </td><td>61833.90</td><td>256.09  </td><td>68.95   </td><td>216     </td></tr>\n",
       "\t<tr><td>1       </td><td>1       </td><td>31      </td><td>68441.85</td><td>193.77  </td><td>80.23   </td><td>148     </td></tr>\n",
       "\t<tr><td>1       </td><td>0       </td><td>26      </td><td>59785.94</td><td>236.50  </td><td>69.47   </td><td>185     </td></tr>\n",
       "\t<tr><td>1       </td><td>1       </td><td>29      </td><td>54806.18</td><td>245.89  </td><td>74.15   </td><td>104     </td></tr>\n",
       "\t<tr><td>1       </td><td>0       </td><td>35      </td><td>73889.99</td><td>225.58  </td><td>68.37   </td><td> 97     </td></tr>\n",
       "\t<tr><td>1       </td><td>1       </td><td>23      </td><td>59761.56</td><td>226.74  </td><td>59.99   </td><td>159     </td></tr>\n",
       "</tbody>\n",
       "</table>\n"
      ],
      "text/latex": [
       "\\begin{tabular}{r|lllllll}\n",
       " Clicked.on.Ad & Male & Age & Area.Income & Daily.Internet.Usage & Daily.Time.Spent.on.Site & Country\\\\\n",
       "\\hline\n",
       "\t 1        & 0        & 35       & 61833.90 & 256.09   & 68.95    & 216     \\\\\n",
       "\t 1        & 1        & 31       & 68441.85 & 193.77   & 80.23    & 148     \\\\\n",
       "\t 1        & 0        & 26       & 59785.94 & 236.50   & 69.47    & 185     \\\\\n",
       "\t 1        & 1        & 29       & 54806.18 & 245.89   & 74.15    & 104     \\\\\n",
       "\t 1        & 0        & 35       & 73889.99 & 225.58   & 68.37    &  97     \\\\\n",
       "\t 1        & 1        & 23       & 59761.56 & 226.74   & 59.99    & 159     \\\\\n",
       "\\end{tabular}\n"
      ],
      "text/markdown": [
       "\n",
       "| Clicked.on.Ad | Male | Age | Area.Income | Daily.Internet.Usage | Daily.Time.Spent.on.Site | Country |\n",
       "|---|---|---|---|---|---|---|\n",
       "| 1        | 0        | 35       | 61833.90 | 256.09   | 68.95    | 216      |\n",
       "| 1        | 1        | 31       | 68441.85 | 193.77   | 80.23    | 148      |\n",
       "| 1        | 0        | 26       | 59785.94 | 236.50   | 69.47    | 185      |\n",
       "| 1        | 1        | 29       | 54806.18 | 245.89   | 74.15    | 104      |\n",
       "| 1        | 0        | 35       | 73889.99 | 225.58   | 68.37    |  97      |\n",
       "| 1        | 1        | 23       | 59761.56 | 226.74   | 59.99    | 159      |\n",
       "\n"
      ],
      "text/plain": [
       "  Clicked.on.Ad Male Age Area.Income Daily.Internet.Usage\n",
       "1 1             0    35  61833.90    256.09              \n",
       "2 1             1    31  68441.85    193.77              \n",
       "3 1             0    26  59785.94    236.50              \n",
       "4 1             1    29  54806.18    245.89              \n",
       "5 1             0    35  73889.99    225.58              \n",
       "6 1             1    23  59761.56    226.74              \n",
       "  Daily.Time.Spent.on.Site Country\n",
       "1 68.95                    216    \n",
       "2 80.23                    148    \n",
       "3 69.47                    185    \n",
       "4 74.15                    104    \n",
       "5 68.37                     97    \n",
       "6 59.99                    159    "
      ]
     },
     "metadata": {},
     "output_type": "display_data"
    }
   ],
   "source": [
    "num_nav <- num_dt\n",
    "head(num_nav)"
   ]
  },
  {
   "cell_type": "code",
   "execution_count": 130,
   "metadata": {},
   "outputs": [
    {
     "name": "stderr",
     "output_type": "stream",
     "text": [
      "Installing package into 'C:/Users/Gideon Kipkorir/Documents/R/win-library/3.6'\n",
      "(as 'lib' is unspecified)\n",
      "also installing the dependency 'plyr'\n",
      "\n"
     ]
    },
    {
     "name": "stdout",
     "output_type": "stream",
     "text": [
      "\n",
      "  There is a binary version available but the source version is later:\n",
      "     binary source needs_compilation\n",
      "plyr  1.8.5  1.8.6              TRUE\n",
      "\n",
      "  Binaries will be installed\n",
      "package 'plyr' successfully unpacked and MD5 sums checked\n"
     ]
    },
    {
     "name": "stderr",
     "output_type": "stream",
     "text": [
      "Warning message:\n",
      "\"cannot remove prior installation of package 'plyr'\"Warning message in file.copy(savedcopy, lib, recursive = TRUE):\n",
      "\"problem copying C:\\Users\\Gideon Kipkorir\\Documents\\R\\win-library\\3.6\\00LOCK\\plyr\\libs\\x64\\plyr.dll to C:\\Users\\Gideon Kipkorir\\Documents\\R\\win-library\\3.6\\plyr\\libs\\x64\\plyr.dll: Permission denied\"Warning message:\n",
      "\"restored 'plyr'\""
     ]
    },
    {
     "name": "stdout",
     "output_type": "stream",
     "text": [
      "package 'caret' successfully unpacked and MD5 sums checked\n",
      "\n",
      "The downloaded binary packages are in\n",
      "\tC:\\Users\\Gideon Kipkorir\\AppData\\Local\\Temp\\RtmpALSrJN\\downloaded_packages\n"
     ]
    },
    {
     "name": "stderr",
     "output_type": "stream",
     "text": [
      "Installing package into 'C:/Users/Gideon Kipkorir/Documents/R/win-library/3.6'\n",
      "(as 'lib' is unspecified)\n"
     ]
    },
    {
     "name": "stdout",
     "output_type": "stream",
     "text": [
      "package 'codetools' successfully unpacked and MD5 sums checked\n",
      "\n",
      "The downloaded binary packages are in\n",
      "\tC:\\Users\\Gideon Kipkorir\\AppData\\Local\\Temp\\RtmpALSrJN\\downloaded_packages\n"
     ]
    },
    {
     "name": "stderr",
     "output_type": "stream",
     "text": [
      "Installing package into 'C:/Users/Gideon Kipkorir/Documents/R/win-library/3.6'\n",
      "(as 'lib' is unspecified)\n"
     ]
    },
    {
     "name": "stdout",
     "output_type": "stream",
     "text": [
      "\n",
      "  There is a binary version available but the source version is later:\n",
      "         binary source needs_compilation\n",
      "survival  3.1-8 3.1-11              TRUE\n",
      "\n",
      "  Binaries will be installed\n",
      "package 'survival' successfully unpacked and MD5 sums checked\n",
      "\n",
      "The downloaded binary packages are in\n",
      "\tC:\\Users\\Gideon Kipkorir\\AppData\\Local\\Temp\\RtmpALSrJN\\downloaded_packages\n"
     ]
    }
   ],
   "source": [
    "install.packages(\"caret\")\n",
    "install.packages('codetools')\n",
    "install.packages('survival')"
   ]
  },
  {
   "cell_type": "code",
   "execution_count": 132,
   "metadata": {},
   "outputs": [],
   "source": [
    "# Splitting data into training and test data sets\n",
    "library(rpart)\n",
    "library(caret)\n",
    "library(codetools)\n",
    "library(survival)\n",
    "#library('caretEnsemble')\n",
    "indxTrain <- createDataPartition(y = num_nav$Clicked.on.Ad,p = 0.75,list = FALSE)\n",
    "training <- num_nav[indxTrain,]\n",
    "testing <- num_nav[-indxTrain,]"
   ]
  },
  {
   "cell_type": "code",
   "execution_count": 135,
   "metadata": {},
   "outputs": [
    {
     "data": {
      "text/plain": [
       "\n",
       " 1  2 \n",
       "50 50 "
      ]
     },
     "metadata": {},
     "output_type": "display_data"
    },
    {
     "data": {
      "text/plain": [
       "\n",
       " 1  2 \n",
       "50 50 "
      ]
     },
     "metadata": {},
     "output_type": "display_data"
    },
    {
     "data": {
      "text/plain": [
       "\n",
       " 1  2 \n",
       "50 50 "
      ]
     },
     "metadata": {},
     "output_type": "display_data"
    }
   ],
   "source": [
    "# Checking dimensions of the split\n",
    "# ---\n",
    "prop.table(table(num_nav$Clicked.on.Ad)) * 100\n",
    "prop.table(table(training$Clicked.on.Ad)) * 100\n",
    "prop.table(table(testing$Clicked.on.Ad)) * 100"
   ]
  },
  {
   "cell_type": "code",
   "execution_count": 136,
   "metadata": {},
   "outputs": [],
   "source": [
    "# Creating objects x which holds the predictor variables and y which holds the response variables\n",
    "\n",
    "x = training[,2:7]\n",
    "y = training$Clicked.on.Ad"
   ]
  },
  {
   "cell_type": "code",
   "execution_count": 137,
   "metadata": {},
   "outputs": [
    {
     "ename": "ERROR",
     "evalue": "Error: wrong model type for regression\n",
     "output_type": "error",
     "traceback": [
      "Error: wrong model type for regression\nTraceback:\n",
      "1. train(x, y, \"nb\", trControl = trainControl(method = \"cv\", number = 10))",
      "2. train.default(x, y, \"nb\", trControl = trainControl(method = \"cv\", \n .     number = 10))",
      "3. stop(paste(\"wrong model type for\", tolower(modelType)), call. = FALSE)"
     ]
    }
   ],
   "source": [
    "library(e1071)\n",
    "library(klaR) \n",
    "library(dplyr)\n",
    "library(caret)\n",
    "model = train(x,y,'nb',trControl=trainControl(method='cv',number=10))"
   ]
  },
  {
   "cell_type": "code",
   "execution_count": null,
   "metadata": {},
   "outputs": [],
   "source": []
  }
 ],
 "metadata": {
  "kernelspec": {
   "display_name": "R",
   "language": "R",
   "name": "ir"
  },
  "language_info": {
   "codemirror_mode": "r",
   "file_extension": ".r",
   "mimetype": "text/x-r-source",
   "name": "R",
   "pygments_lexer": "r",
   "version": "3.6.1"
  }
 },
 "nbformat": 4,
 "nbformat_minor": 2
}
